{
 "cells": [
  {
   "cell_type": "markdown",
   "source": [
    "### 1. Importei as bibliotecas"
   ],
   "metadata": {
    "collapsed": false
   }
  },
  {
   "cell_type": "code",
   "execution_count": 55,
   "metadata": {
    "collapsed": true
   },
   "outputs": [],
   "source": [
    "import pandas as pd"
   ]
  },
  {
   "cell_type": "markdown",
   "source": [
    "### 2. Carreguei o dataset e fiz uma análise inicial"
   ],
   "metadata": {
    "collapsed": false
   }
  },
  {
   "cell_type": "code",
   "execution_count": 56,
   "outputs": [
    {
     "name": "stdout",
     "output_type": "stream",
     "text": [
      "<class 'pandas.core.frame.DataFrame'>\n",
      "RangeIndex: 2000 entries, 0 to 1999\n",
      "Data columns (total 8 columns):\n",
      " #   Column                  Non-Null Count  Dtype \n",
      "---  ------                  --------------  ----- \n",
      " 0   CustomerID              2000 non-null   int64 \n",
      " 1   Gender                  2000 non-null   object\n",
      " 2   Age                     2000 non-null   int64 \n",
      " 3   Annual Income ($)       2000 non-null   int64 \n",
      " 4   Spending Score (1-100)  2000 non-null   int64 \n",
      " 5   Profession              1965 non-null   object\n",
      " 6   Work Experience         2000 non-null   int64 \n",
      " 7   Family Size             2000 non-null   int64 \n",
      "dtypes: int64(6), object(2)\n",
      "memory usage: 125.1+ KB\n"
     ]
    },
    {
     "data": {
      "text/plain": "   CustomerID  Gender  Age  Annual Income ($)  Spending Score (1-100)  \\\n0           1    Male   19              15000                      39   \n1           2    Male   21              35000                      81   \n2           3  Female   20              86000                       6   \n3           4  Female   23              59000                      77   \n4           5  Female   31              38000                      40   \n5           6  Female   22              58000                      76   \n6           7  Female   35              31000                       6   \n7           8  Female   23              84000                      94   \n8           9    Male   64              97000                       3   \n9          10  Female   30              98000                      72   \n\n      Profession  Work Experience  Family Size  \n0     Healthcare                1            4  \n1       Engineer                3            3  \n2       Engineer                1            1  \n3         Lawyer                0            2  \n4  Entertainment                2            6  \n5         Artist                0            2  \n6     Healthcare                1            3  \n7     Healthcare                1            3  \n8       Engineer                0            3  \n9         Artist                1            4  ",
      "text/html": "<div>\n<style scoped>\n    .dataframe tbody tr th:only-of-type {\n        vertical-align: middle;\n    }\n\n    .dataframe tbody tr th {\n        vertical-align: top;\n    }\n\n    .dataframe thead th {\n        text-align: right;\n    }\n</style>\n<table border=\"1\" class=\"dataframe\">\n  <thead>\n    <tr style=\"text-align: right;\">\n      <th></th>\n      <th>CustomerID</th>\n      <th>Gender</th>\n      <th>Age</th>\n      <th>Annual Income ($)</th>\n      <th>Spending Score (1-100)</th>\n      <th>Profession</th>\n      <th>Work Experience</th>\n      <th>Family Size</th>\n    </tr>\n  </thead>\n  <tbody>\n    <tr>\n      <th>0</th>\n      <td>1</td>\n      <td>Male</td>\n      <td>19</td>\n      <td>15000</td>\n      <td>39</td>\n      <td>Healthcare</td>\n      <td>1</td>\n      <td>4</td>\n    </tr>\n    <tr>\n      <th>1</th>\n      <td>2</td>\n      <td>Male</td>\n      <td>21</td>\n      <td>35000</td>\n      <td>81</td>\n      <td>Engineer</td>\n      <td>3</td>\n      <td>3</td>\n    </tr>\n    <tr>\n      <th>2</th>\n      <td>3</td>\n      <td>Female</td>\n      <td>20</td>\n      <td>86000</td>\n      <td>6</td>\n      <td>Engineer</td>\n      <td>1</td>\n      <td>1</td>\n    </tr>\n    <tr>\n      <th>3</th>\n      <td>4</td>\n      <td>Female</td>\n      <td>23</td>\n      <td>59000</td>\n      <td>77</td>\n      <td>Lawyer</td>\n      <td>0</td>\n      <td>2</td>\n    </tr>\n    <tr>\n      <th>4</th>\n      <td>5</td>\n      <td>Female</td>\n      <td>31</td>\n      <td>38000</td>\n      <td>40</td>\n      <td>Entertainment</td>\n      <td>2</td>\n      <td>6</td>\n    </tr>\n    <tr>\n      <th>5</th>\n      <td>6</td>\n      <td>Female</td>\n      <td>22</td>\n      <td>58000</td>\n      <td>76</td>\n      <td>Artist</td>\n      <td>0</td>\n      <td>2</td>\n    </tr>\n    <tr>\n      <th>6</th>\n      <td>7</td>\n      <td>Female</td>\n      <td>35</td>\n      <td>31000</td>\n      <td>6</td>\n      <td>Healthcare</td>\n      <td>1</td>\n      <td>3</td>\n    </tr>\n    <tr>\n      <th>7</th>\n      <td>8</td>\n      <td>Female</td>\n      <td>23</td>\n      <td>84000</td>\n      <td>94</td>\n      <td>Healthcare</td>\n      <td>1</td>\n      <td>3</td>\n    </tr>\n    <tr>\n      <th>8</th>\n      <td>9</td>\n      <td>Male</td>\n      <td>64</td>\n      <td>97000</td>\n      <td>3</td>\n      <td>Engineer</td>\n      <td>0</td>\n      <td>3</td>\n    </tr>\n    <tr>\n      <th>9</th>\n      <td>10</td>\n      <td>Female</td>\n      <td>30</td>\n      <td>98000</td>\n      <td>72</td>\n      <td>Artist</td>\n      <td>1</td>\n      <td>4</td>\n    </tr>\n  </tbody>\n</table>\n</div>"
     },
     "execution_count": 56,
     "metadata": {},
     "output_type": "execute_result"
    }
   ],
   "source": [
    "data = pd.read_csv('raw_customers.csv')\n",
    "data.info()\n",
    "data.head(10)"
   ],
   "metadata": {
    "collapsed": false
   }
  },
  {
   "cell_type": "markdown",
   "source": [
    "### 3. Removi as colunas que não serão utilizadas"
   ],
   "metadata": {
    "collapsed": false
   }
  },
  {
   "cell_type": "code",
   "execution_count": 57,
   "outputs": [
    {
     "data": {
      "text/plain": "   Gender  Age  Annual Income ($)  Spending Score (1-100)     Profession  \\\n0    Male   19              15000                      39     Healthcare   \n1    Male   21              35000                      81       Engineer   \n2  Female   20              86000                       6       Engineer   \n3  Female   23              59000                      77         Lawyer   \n4  Female   31              38000                      40  Entertainment   \n5  Female   22              58000                      76         Artist   \n6  Female   35              31000                       6     Healthcare   \n7  Female   23              84000                      94     Healthcare   \n8    Male   64              97000                       3       Engineer   \n9  Female   30              98000                      72         Artist   \n\n   Work Experience  Family Size  \n0                1            4  \n1                3            3  \n2                1            1  \n3                0            2  \n4                2            6  \n5                0            2  \n6                1            3  \n7                1            3  \n8                0            3  \n9                1            4  ",
      "text/html": "<div>\n<style scoped>\n    .dataframe tbody tr th:only-of-type {\n        vertical-align: middle;\n    }\n\n    .dataframe tbody tr th {\n        vertical-align: top;\n    }\n\n    .dataframe thead th {\n        text-align: right;\n    }\n</style>\n<table border=\"1\" class=\"dataframe\">\n  <thead>\n    <tr style=\"text-align: right;\">\n      <th></th>\n      <th>Gender</th>\n      <th>Age</th>\n      <th>Annual Income ($)</th>\n      <th>Spending Score (1-100)</th>\n      <th>Profession</th>\n      <th>Work Experience</th>\n      <th>Family Size</th>\n    </tr>\n  </thead>\n  <tbody>\n    <tr>\n      <th>0</th>\n      <td>Male</td>\n      <td>19</td>\n      <td>15000</td>\n      <td>39</td>\n      <td>Healthcare</td>\n      <td>1</td>\n      <td>4</td>\n    </tr>\n    <tr>\n      <th>1</th>\n      <td>Male</td>\n      <td>21</td>\n      <td>35000</td>\n      <td>81</td>\n      <td>Engineer</td>\n      <td>3</td>\n      <td>3</td>\n    </tr>\n    <tr>\n      <th>2</th>\n      <td>Female</td>\n      <td>20</td>\n      <td>86000</td>\n      <td>6</td>\n      <td>Engineer</td>\n      <td>1</td>\n      <td>1</td>\n    </tr>\n    <tr>\n      <th>3</th>\n      <td>Female</td>\n      <td>23</td>\n      <td>59000</td>\n      <td>77</td>\n      <td>Lawyer</td>\n      <td>0</td>\n      <td>2</td>\n    </tr>\n    <tr>\n      <th>4</th>\n      <td>Female</td>\n      <td>31</td>\n      <td>38000</td>\n      <td>40</td>\n      <td>Entertainment</td>\n      <td>2</td>\n      <td>6</td>\n    </tr>\n    <tr>\n      <th>5</th>\n      <td>Female</td>\n      <td>22</td>\n      <td>58000</td>\n      <td>76</td>\n      <td>Artist</td>\n      <td>0</td>\n      <td>2</td>\n    </tr>\n    <tr>\n      <th>6</th>\n      <td>Female</td>\n      <td>35</td>\n      <td>31000</td>\n      <td>6</td>\n      <td>Healthcare</td>\n      <td>1</td>\n      <td>3</td>\n    </tr>\n    <tr>\n      <th>7</th>\n      <td>Female</td>\n      <td>23</td>\n      <td>84000</td>\n      <td>94</td>\n      <td>Healthcare</td>\n      <td>1</td>\n      <td>3</td>\n    </tr>\n    <tr>\n      <th>8</th>\n      <td>Male</td>\n      <td>64</td>\n      <td>97000</td>\n      <td>3</td>\n      <td>Engineer</td>\n      <td>0</td>\n      <td>3</td>\n    </tr>\n    <tr>\n      <th>9</th>\n      <td>Female</td>\n      <td>30</td>\n      <td>98000</td>\n      <td>72</td>\n      <td>Artist</td>\n      <td>1</td>\n      <td>4</td>\n    </tr>\n  </tbody>\n</table>\n</div>"
     },
     "execution_count": 57,
     "metadata": {},
     "output_type": "execute_result"
    }
   ],
   "source": [
    "data = data.drop(['CustomerID'], axis=1)\n",
    "data.head(10)"
   ],
   "metadata": {
    "collapsed": false
   }
  },
  {
   "cell_type": "markdown",
   "source": [
    "### 4. Removi as linhas com valores nulos"
   ],
   "metadata": {
    "collapsed": false
   }
  },
  {
   "cell_type": "code",
   "execution_count": 58,
   "outputs": [
    {
     "name": "stdout",
     "output_type": "stream",
     "text": [
      "<class 'pandas.core.frame.DataFrame'>\n",
      "Int64Index: 1965 entries, 0 to 1999\n",
      "Data columns (total 7 columns):\n",
      " #   Column                  Non-Null Count  Dtype \n",
      "---  ------                  --------------  ----- \n",
      " 0   Gender                  1965 non-null   object\n",
      " 1   Age                     1965 non-null   int64 \n",
      " 2   Annual Income ($)       1965 non-null   int64 \n",
      " 3   Spending Score (1-100)  1965 non-null   int64 \n",
      " 4   Profession              1965 non-null   object\n",
      " 5   Work Experience         1965 non-null   int64 \n",
      " 6   Family Size             1965 non-null   int64 \n",
      "dtypes: int64(5), object(2)\n",
      "memory usage: 122.8+ KB\n"
     ]
    }
   ],
   "source": [
    "data = data.dropna()\n",
    "data.info()"
   ],
   "metadata": {
    "collapsed": false
   }
  },
  {
   "cell_type": "markdown",
   "source": [
    "### 5. Verifiquei valores duplicados"
   ],
   "metadata": {
    "collapsed": false
   }
  },
  {
   "cell_type": "code",
   "execution_count": 59,
   "outputs": [
    {
     "data": {
      "text/plain": "0"
     },
     "execution_count": 59,
     "metadata": {},
     "output_type": "execute_result"
    }
   ],
   "source": [
    "data.duplicated().sum()"
   ],
   "metadata": {
    "collapsed": false
   }
  },
  {
   "cell_type": "markdown",
   "source": [
    "### 6. Renomeei as colunas para facilitar a manipulação"
   ],
   "metadata": {
    "collapsed": false
   }
  },
  {
   "cell_type": "code",
   "execution_count": 60,
   "outputs": [
    {
     "data": {
      "text/plain": "   gender  age  anual_income  spending_score     profession  work_experience  \\\n0    Male   19         15000              39     Healthcare                1   \n1    Male   21         35000              81       Engineer                3   \n2  Female   20         86000               6       Engineer                1   \n3  Female   23         59000              77         Lawyer                0   \n4  Female   31         38000              40  Entertainment                2   \n5  Female   22         58000              76         Artist                0   \n6  Female   35         31000               6     Healthcare                1   \n7  Female   23         84000              94     Healthcare                1   \n8    Male   64         97000               3       Engineer                0   \n9  Female   30         98000              72         Artist                1   \n\n   family_size  \n0            4  \n1            3  \n2            1  \n3            2  \n4            6  \n5            2  \n6            3  \n7            3  \n8            3  \n9            4  ",
      "text/html": "<div>\n<style scoped>\n    .dataframe tbody tr th:only-of-type {\n        vertical-align: middle;\n    }\n\n    .dataframe tbody tr th {\n        vertical-align: top;\n    }\n\n    .dataframe thead th {\n        text-align: right;\n    }\n</style>\n<table border=\"1\" class=\"dataframe\">\n  <thead>\n    <tr style=\"text-align: right;\">\n      <th></th>\n      <th>gender</th>\n      <th>age</th>\n      <th>anual_income</th>\n      <th>spending_score</th>\n      <th>profession</th>\n      <th>work_experience</th>\n      <th>family_size</th>\n    </tr>\n  </thead>\n  <tbody>\n    <tr>\n      <th>0</th>\n      <td>Male</td>\n      <td>19</td>\n      <td>15000</td>\n      <td>39</td>\n      <td>Healthcare</td>\n      <td>1</td>\n      <td>4</td>\n    </tr>\n    <tr>\n      <th>1</th>\n      <td>Male</td>\n      <td>21</td>\n      <td>35000</td>\n      <td>81</td>\n      <td>Engineer</td>\n      <td>3</td>\n      <td>3</td>\n    </tr>\n    <tr>\n      <th>2</th>\n      <td>Female</td>\n      <td>20</td>\n      <td>86000</td>\n      <td>6</td>\n      <td>Engineer</td>\n      <td>1</td>\n      <td>1</td>\n    </tr>\n    <tr>\n      <th>3</th>\n      <td>Female</td>\n      <td>23</td>\n      <td>59000</td>\n      <td>77</td>\n      <td>Lawyer</td>\n      <td>0</td>\n      <td>2</td>\n    </tr>\n    <tr>\n      <th>4</th>\n      <td>Female</td>\n      <td>31</td>\n      <td>38000</td>\n      <td>40</td>\n      <td>Entertainment</td>\n      <td>2</td>\n      <td>6</td>\n    </tr>\n    <tr>\n      <th>5</th>\n      <td>Female</td>\n      <td>22</td>\n      <td>58000</td>\n      <td>76</td>\n      <td>Artist</td>\n      <td>0</td>\n      <td>2</td>\n    </tr>\n    <tr>\n      <th>6</th>\n      <td>Female</td>\n      <td>35</td>\n      <td>31000</td>\n      <td>6</td>\n      <td>Healthcare</td>\n      <td>1</td>\n      <td>3</td>\n    </tr>\n    <tr>\n      <th>7</th>\n      <td>Female</td>\n      <td>23</td>\n      <td>84000</td>\n      <td>94</td>\n      <td>Healthcare</td>\n      <td>1</td>\n      <td>3</td>\n    </tr>\n    <tr>\n      <th>8</th>\n      <td>Male</td>\n      <td>64</td>\n      <td>97000</td>\n      <td>3</td>\n      <td>Engineer</td>\n      <td>0</td>\n      <td>3</td>\n    </tr>\n    <tr>\n      <th>9</th>\n      <td>Female</td>\n      <td>30</td>\n      <td>98000</td>\n      <td>72</td>\n      <td>Artist</td>\n      <td>1</td>\n      <td>4</td>\n    </tr>\n  </tbody>\n</table>\n</div>"
     },
     "execution_count": 60,
     "metadata": {},
     "output_type": "execute_result"
    }
   ],
   "source": [
    "cols = ['gender', 'age', 'anual_income', 'spending_score', 'profession', 'work_experience', 'family_size']\n",
    "data.columns = cols\n",
    "data.head(10)"
   ],
   "metadata": {
    "collapsed": false
   }
  },
  {
   "cell_type": "markdown",
   "source": [
    "### 7. Verifiquei a quantidade de valores únicos para cada coluna"
   ],
   "metadata": {
    "collapsed": false
   }
  },
  {
   "cell_type": "code",
   "execution_count": 61,
   "outputs": [
    {
     "data": {
      "text/plain": "gender                2\nage                 100\nanual_income       1755\nspending_score      101\nprofession            9\nwork_experience      18\nfamily_size           9\ndtype: int64"
     },
     "execution_count": 61,
     "metadata": {},
     "output_type": "execute_result"
    }
   ],
   "source": [
    "data.nunique()"
   ],
   "metadata": {
    "collapsed": false
   }
  },
  {
   "cell_type": "markdown",
   "source": [
    "### 8. Exportei o dataset para um arquivo csv"
   ],
   "metadata": {
    "collapsed": false
   }
  },
  {
   "cell_type": "code",
   "execution_count": 62,
   "outputs": [],
   "source": [
    "pd.DataFrame.to_csv(data, 'new_customers.csv', index=False)"
   ],
   "metadata": {
    "collapsed": false
   }
  }
 ],
 "metadata": {
  "kernelspec": {
   "display_name": "Python 3",
   "language": "python",
   "name": "python3"
  },
  "language_info": {
   "codemirror_mode": {
    "name": "ipython",
    "version": 2
   },
   "file_extension": ".py",
   "mimetype": "text/x-python",
   "name": "python",
   "nbconvert_exporter": "python",
   "pygments_lexer": "ipython2",
   "version": "2.7.6"
  }
 },
 "nbformat": 4,
 "nbformat_minor": 0
}
