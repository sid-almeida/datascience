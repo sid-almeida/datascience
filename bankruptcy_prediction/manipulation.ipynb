{
 "cells": [
  {
   "cell_type": "markdown",
   "source": [
    "**1. Importei as bibliotecas necessárias**"
   ],
   "metadata": {
    "collapsed": false
   }
  },
  {
   "cell_type": "code",
   "execution_count": 2,
   "metadata": {
    "collapsed": true,
    "ExecuteTime": {
     "end_time": "2023-07-04T14:38:49.317699800Z",
     "start_time": "2023-07-04T14:38:49.278666500Z"
    }
   },
   "outputs": [],
   "source": [
    "import pandas as pd\n",
    "import numpy as np\n",
    "import matplotlib.pyplot as plt\n",
    "import seaborn as sns\n",
    "import os"
   ]
  },
  {
   "cell_type": "markdown",
   "source": [
    "**2. Importei os dados**"
   ],
   "metadata": {
    "collapsed": false
   }
  },
  {
   "cell_type": "code",
   "execution_count": 4,
   "outputs": [
    {
     "data": {
      "text/plain": "   Bankrupt?   ROA(C) before interest and depreciation before interest  \\\n0          1                                           0.370594          \n1          1                                           0.464291          \n2          1                                           0.426071          \n3          1                                           0.399844          \n4          1                                           0.465022          \n5          1                                           0.388680          \n6          0                                           0.390923          \n7          0                                           0.508361          \n8          0                                           0.488519          \n9          0                                           0.495686          \n\n    ROA(A) before interest and % after tax  \\\n0                                 0.424389   \n1                                 0.538214   \n2                                 0.499019   \n3                                 0.451265   \n4                                 0.538432   \n5                                 0.415177   \n6                                 0.445704   \n7                                 0.570922   \n8                                 0.545137   \n9                                 0.550916   \n\n    ROA(B) before interest and depreciation after tax  \\\n0                                           0.405750    \n1                                           0.516730    \n2                                           0.472295    \n3                                           0.457733    \n4                                           0.522298    \n5                                           0.419134    \n6                                           0.436158    \n7                                           0.559077    \n8                                           0.543284    \n9                                           0.542963    \n\n    Operating Gross Margin   Realized Sales Gross Margin  \\\n0                 0.601457                      0.601457   \n1                 0.610235                      0.610235   \n2                 0.601450                      0.601364   \n3                 0.583541                      0.583541   \n4                 0.598783                      0.598783   \n5                 0.590171                      0.590251   \n6                 0.619950                      0.619950   \n7                 0.601738                      0.601717   \n8                 0.603612                      0.603612   \n9                 0.599209                      0.599209   \n\n    Operating Profit Rate   Pre-tax net Interest Rate  \\\n0                0.998969                    0.796887   \n1                0.998946                    0.797380   \n2                0.998857                    0.796403   \n3                0.998700                    0.796967   \n4                0.998973                    0.797366   \n5                0.998758                    0.796903   \n6                0.998993                    0.797012   \n7                0.999009                    0.797449   \n8                0.998961                    0.797414   \n9                0.999001                    0.797404   \n\n    After-tax net Interest Rate   Non-industry income and expenditure/revenue  \\\n0                      0.808809                                      0.302646   \n1                      0.809301                                      0.303556   \n2                      0.808388                                      0.302035   \n3                      0.808966                                      0.303350   \n4                      0.809304                                      0.303475   \n5                      0.808771                                      0.303116   \n6                      0.808960                                      0.302814   \n7                      0.809362                                      0.303545   \n8                      0.809338                                      0.303584   \n9                      0.809320                                      0.303483   \n\n   ...   Net Income to Total Assets   Total assets to GNP price  \\\n0  ...                     0.716845                    0.009219   \n1  ...                     0.795297                    0.008323   \n2  ...                     0.774670                    0.040003   \n3  ...                     0.739555                    0.003252   \n4  ...                     0.795016                    0.003878   \n5  ...                     0.710420                    0.005278   \n6  ...                     0.736619                    0.018372   \n7  ...                     0.815350                    0.010005   \n8  ...                     0.803647                    0.000824   \n9  ...                     0.804195                    0.005798   \n\n    No-credit Interval   Gross Profit to Sales  \\\n0             0.622879                0.601453   \n1             0.623652                0.610237   \n2             0.623841                0.601449   \n3             0.622929                0.583538   \n4             0.623521                0.598782   \n5             0.622605                0.590172   \n6             0.623655                0.619949   \n7             0.623843                0.601739   \n8             0.623977                0.603613   \n9             0.623865                0.599205   \n\n    Net Income to Stockholder's Equity   Liability to Equity  \\\n0                             0.827890              0.290202   \n1                             0.839969              0.283846   \n2                             0.836774              0.290189   \n3                             0.834697              0.281721   \n4                             0.839973              0.278514   \n5                             0.829939              0.285087   \n6                             0.829980              0.292504   \n7                             0.841459              0.278607   \n8                             0.840487              0.276423   \n9                             0.840688              0.279388   \n\n    Degree of Financial Leverage (DFL)  \\\n0                             0.026601   \n1                             0.264577   \n2                             0.026555   \n3                             0.026697   \n4                             0.024752   \n5                             0.026675   \n6                             0.026622   \n7                             0.027031   \n8                             0.026891   \n9                             0.027243   \n\n    Interest Coverage Ratio (Interest expense to EBIT)   Net Income Flag  \\\n0                                           0.564050                   1   \n1                                           0.570175                   1   \n2                                           0.563706                   1   \n3                                           0.564663                   1   \n4                                           0.575617                   1   \n5                                           0.564538                   1   \n6                                           0.564200                   1   \n7                                           0.566089                   1   \n8                                           0.565592                   1   \n9                                           0.566668                   1   \n\n    Equity to Liability  \n0              0.016469  \n1              0.020794  \n2              0.016474  \n3              0.023982  \n4              0.035490  \n5              0.019534  \n6              0.015663  \n7              0.034889  \n8              0.065826  \n9              0.030801  \n\n[10 rows x 96 columns]",
      "text/html": "<div>\n<style scoped>\n    .dataframe tbody tr th:only-of-type {\n        vertical-align: middle;\n    }\n\n    .dataframe tbody tr th {\n        vertical-align: top;\n    }\n\n    .dataframe thead th {\n        text-align: right;\n    }\n</style>\n<table border=\"1\" class=\"dataframe\">\n  <thead>\n    <tr style=\"text-align: right;\">\n      <th></th>\n      <th>Bankrupt?</th>\n      <th>ROA(C) before interest and depreciation before interest</th>\n      <th>ROA(A) before interest and % after tax</th>\n      <th>ROA(B) before interest and depreciation after tax</th>\n      <th>Operating Gross Margin</th>\n      <th>Realized Sales Gross Margin</th>\n      <th>Operating Profit Rate</th>\n      <th>Pre-tax net Interest Rate</th>\n      <th>After-tax net Interest Rate</th>\n      <th>Non-industry income and expenditure/revenue</th>\n      <th>...</th>\n      <th>Net Income to Total Assets</th>\n      <th>Total assets to GNP price</th>\n      <th>No-credit Interval</th>\n      <th>Gross Profit to Sales</th>\n      <th>Net Income to Stockholder's Equity</th>\n      <th>Liability to Equity</th>\n      <th>Degree of Financial Leverage (DFL)</th>\n      <th>Interest Coverage Ratio (Interest expense to EBIT)</th>\n      <th>Net Income Flag</th>\n      <th>Equity to Liability</th>\n    </tr>\n  </thead>\n  <tbody>\n    <tr>\n      <th>0</th>\n      <td>1</td>\n      <td>0.370594</td>\n      <td>0.424389</td>\n      <td>0.405750</td>\n      <td>0.601457</td>\n      <td>0.601457</td>\n      <td>0.998969</td>\n      <td>0.796887</td>\n      <td>0.808809</td>\n      <td>0.302646</td>\n      <td>...</td>\n      <td>0.716845</td>\n      <td>0.009219</td>\n      <td>0.622879</td>\n      <td>0.601453</td>\n      <td>0.827890</td>\n      <td>0.290202</td>\n      <td>0.026601</td>\n      <td>0.564050</td>\n      <td>1</td>\n      <td>0.016469</td>\n    </tr>\n    <tr>\n      <th>1</th>\n      <td>1</td>\n      <td>0.464291</td>\n      <td>0.538214</td>\n      <td>0.516730</td>\n      <td>0.610235</td>\n      <td>0.610235</td>\n      <td>0.998946</td>\n      <td>0.797380</td>\n      <td>0.809301</td>\n      <td>0.303556</td>\n      <td>...</td>\n      <td>0.795297</td>\n      <td>0.008323</td>\n      <td>0.623652</td>\n      <td>0.610237</td>\n      <td>0.839969</td>\n      <td>0.283846</td>\n      <td>0.264577</td>\n      <td>0.570175</td>\n      <td>1</td>\n      <td>0.020794</td>\n    </tr>\n    <tr>\n      <th>2</th>\n      <td>1</td>\n      <td>0.426071</td>\n      <td>0.499019</td>\n      <td>0.472295</td>\n      <td>0.601450</td>\n      <td>0.601364</td>\n      <td>0.998857</td>\n      <td>0.796403</td>\n      <td>0.808388</td>\n      <td>0.302035</td>\n      <td>...</td>\n      <td>0.774670</td>\n      <td>0.040003</td>\n      <td>0.623841</td>\n      <td>0.601449</td>\n      <td>0.836774</td>\n      <td>0.290189</td>\n      <td>0.026555</td>\n      <td>0.563706</td>\n      <td>1</td>\n      <td>0.016474</td>\n    </tr>\n    <tr>\n      <th>3</th>\n      <td>1</td>\n      <td>0.399844</td>\n      <td>0.451265</td>\n      <td>0.457733</td>\n      <td>0.583541</td>\n      <td>0.583541</td>\n      <td>0.998700</td>\n      <td>0.796967</td>\n      <td>0.808966</td>\n      <td>0.303350</td>\n      <td>...</td>\n      <td>0.739555</td>\n      <td>0.003252</td>\n      <td>0.622929</td>\n      <td>0.583538</td>\n      <td>0.834697</td>\n      <td>0.281721</td>\n      <td>0.026697</td>\n      <td>0.564663</td>\n      <td>1</td>\n      <td>0.023982</td>\n    </tr>\n    <tr>\n      <th>4</th>\n      <td>1</td>\n      <td>0.465022</td>\n      <td>0.538432</td>\n      <td>0.522298</td>\n      <td>0.598783</td>\n      <td>0.598783</td>\n      <td>0.998973</td>\n      <td>0.797366</td>\n      <td>0.809304</td>\n      <td>0.303475</td>\n      <td>...</td>\n      <td>0.795016</td>\n      <td>0.003878</td>\n      <td>0.623521</td>\n      <td>0.598782</td>\n      <td>0.839973</td>\n      <td>0.278514</td>\n      <td>0.024752</td>\n      <td>0.575617</td>\n      <td>1</td>\n      <td>0.035490</td>\n    </tr>\n    <tr>\n      <th>5</th>\n      <td>1</td>\n      <td>0.388680</td>\n      <td>0.415177</td>\n      <td>0.419134</td>\n      <td>0.590171</td>\n      <td>0.590251</td>\n      <td>0.998758</td>\n      <td>0.796903</td>\n      <td>0.808771</td>\n      <td>0.303116</td>\n      <td>...</td>\n      <td>0.710420</td>\n      <td>0.005278</td>\n      <td>0.622605</td>\n      <td>0.590172</td>\n      <td>0.829939</td>\n      <td>0.285087</td>\n      <td>0.026675</td>\n      <td>0.564538</td>\n      <td>1</td>\n      <td>0.019534</td>\n    </tr>\n    <tr>\n      <th>6</th>\n      <td>0</td>\n      <td>0.390923</td>\n      <td>0.445704</td>\n      <td>0.436158</td>\n      <td>0.619950</td>\n      <td>0.619950</td>\n      <td>0.998993</td>\n      <td>0.797012</td>\n      <td>0.808960</td>\n      <td>0.302814</td>\n      <td>...</td>\n      <td>0.736619</td>\n      <td>0.018372</td>\n      <td>0.623655</td>\n      <td>0.619949</td>\n      <td>0.829980</td>\n      <td>0.292504</td>\n      <td>0.026622</td>\n      <td>0.564200</td>\n      <td>1</td>\n      <td>0.015663</td>\n    </tr>\n    <tr>\n      <th>7</th>\n      <td>0</td>\n      <td>0.508361</td>\n      <td>0.570922</td>\n      <td>0.559077</td>\n      <td>0.601738</td>\n      <td>0.601717</td>\n      <td>0.999009</td>\n      <td>0.797449</td>\n      <td>0.809362</td>\n      <td>0.303545</td>\n      <td>...</td>\n      <td>0.815350</td>\n      <td>0.010005</td>\n      <td>0.623843</td>\n      <td>0.601739</td>\n      <td>0.841459</td>\n      <td>0.278607</td>\n      <td>0.027031</td>\n      <td>0.566089</td>\n      <td>1</td>\n      <td>0.034889</td>\n    </tr>\n    <tr>\n      <th>8</th>\n      <td>0</td>\n      <td>0.488519</td>\n      <td>0.545137</td>\n      <td>0.543284</td>\n      <td>0.603612</td>\n      <td>0.603612</td>\n      <td>0.998961</td>\n      <td>0.797414</td>\n      <td>0.809338</td>\n      <td>0.303584</td>\n      <td>...</td>\n      <td>0.803647</td>\n      <td>0.000824</td>\n      <td>0.623977</td>\n      <td>0.603613</td>\n      <td>0.840487</td>\n      <td>0.276423</td>\n      <td>0.026891</td>\n      <td>0.565592</td>\n      <td>1</td>\n      <td>0.065826</td>\n    </tr>\n    <tr>\n      <th>9</th>\n      <td>0</td>\n      <td>0.495686</td>\n      <td>0.550916</td>\n      <td>0.542963</td>\n      <td>0.599209</td>\n      <td>0.599209</td>\n      <td>0.999001</td>\n      <td>0.797404</td>\n      <td>0.809320</td>\n      <td>0.303483</td>\n      <td>...</td>\n      <td>0.804195</td>\n      <td>0.005798</td>\n      <td>0.623865</td>\n      <td>0.599205</td>\n      <td>0.840688</td>\n      <td>0.279388</td>\n      <td>0.027243</td>\n      <td>0.566668</td>\n      <td>1</td>\n      <td>0.030801</td>\n    </tr>\n  </tbody>\n</table>\n<p>10 rows × 96 columns</p>\n</div>"
     },
     "execution_count": 4,
     "metadata": {},
     "output_type": "execute_result"
    }
   ],
   "source": [
    "data = pd.read_csv('data.csv')\n",
    "data.head(10)"
   ],
   "metadata": {
    "collapsed": false,
    "ExecuteTime": {
     "end_time": "2023-07-04T14:39:07.990180900Z",
     "start_time": "2023-07-04T14:39:07.817811200Z"
    }
   }
  },
  {
   "cell_type": "markdown",
   "source": [
    "**3. Verifiquei se há dados faltantes**"
   ],
   "metadata": {
    "collapsed": false
   }
  },
  {
   "cell_type": "code",
   "execution_count": 6,
   "outputs": [
    {
     "name": "stdout",
     "output_type": "stream",
     "text": [
      "Quantidade de dados faltantes: 0\n"
     ]
    }
   ],
   "source": [
    "faltantes = data.isnull().sum()\n",
    "print(f'Quantidade de dados faltantes: {faltantes.sum()}')"
   ],
   "metadata": {
    "collapsed": false,
    "ExecuteTime": {
     "end_time": "2023-07-04T14:39:57.293004600Z",
     "start_time": "2023-07-04T14:39:57.260199900Z"
    }
   }
  },
  {
   "cell_type": "markdown",
   "source": [
    "**4. Verifiquei se há dados duplicados**"
   ],
   "metadata": {
    "collapsed": false
   }
  },
  {
   "cell_type": "code",
   "execution_count": 7,
   "outputs": [
    {
     "name": "stdout",
     "output_type": "stream",
     "text": [
      "Quantidade de dados duplicados: 0\n"
     ]
    }
   ],
   "source": [
    "dupli = data.duplicated().sum()\n",
    "print(f'Quantidade de dados duplicados: {dupli}')"
   ],
   "metadata": {
    "collapsed": false,
    "ExecuteTime": {
     "end_time": "2023-07-04T14:40:11.075397100Z",
     "start_time": "2023-07-04T14:40:11.028148100Z"
    }
   }
  },
  {
   "cell_type": "markdown",
   "source": [
    "**5. Verifiquei se há dados inconsistentes**"
   ],
   "metadata": {
    "collapsed": false
   }
  },
  {
   "cell_type": "code",
   "execution_count": 8,
   "outputs": [
    {
     "name": "stdout",
     "output_type": "stream",
     "text": [
      "Quantidade de dados inconsistentes: 0\n"
     ]
    }
   ],
   "source": [
    "inconsistentes = data<0\n",
    "print(f'Quantidade de dados inconsistentes: {inconsistentes.sum().sum()}')"
   ],
   "metadata": {
    "collapsed": false,
    "ExecuteTime": {
     "end_time": "2023-07-04T14:41:02.758836400Z",
     "start_time": "2023-07-04T14:41:02.725374400Z"
    }
   }
  },
  {
   "cell_type": "markdown",
   "source": [
    "**6. Verifiquei o tamanho do dataset**"
   ],
   "metadata": {
    "collapsed": false
   }
  },
  {
   "cell_type": "code",
   "execution_count": 11,
   "outputs": [
    {
     "name": "stdout",
     "output_type": "stream",
     "text": [
      "Quantidade de linhas: 6819\n",
      "Quantidade de colunas: 96\n"
     ]
    }
   ],
   "source": [
    "tamanho = data.shape\n",
    "print(f'Quantidade de linhas: {tamanho[0]}')\n",
    "print(f'Quantidade de colunas: {tamanho[1]}')"
   ],
   "metadata": {
    "collapsed": false,
    "ExecuteTime": {
     "end_time": "2023-07-04T14:41:38.042637Z",
     "start_time": "2023-07-04T14:41:38.027505500Z"
    }
   }
  },
  {
   "cell_type": "markdown",
   "source": [
    "**7. Verifiquei o tipo de cada coluna**"
   ],
   "metadata": {
    "collapsed": false
   }
  },
  {
   "cell_type": "code",
   "execution_count": 14,
   "outputs": [
    {
     "data": {
      "text/plain": "Bankrupt?                                                     int64\n ROA(C) before interest and depreciation before interest    float64\n ROA(A) before interest and % after tax                     float64\n ROA(B) before interest and depreciation after tax          float64\n Operating Gross Margin                                     float64\n                                                             ...   \n Liability to Equity                                        float64\n Degree of Financial Leverage (DFL)                         float64\n Interest Coverage Ratio (Interest expense to EBIT)         float64\n Net Income Flag                                              int64\n Equity to Liability                                        float64\nLength: 96, dtype: object"
     },
     "execution_count": 14,
     "metadata": {},
     "output_type": "execute_result"
    }
   ],
   "source": [
    "data.dtypes"
   ],
   "metadata": {
    "collapsed": false,
    "ExecuteTime": {
     "end_time": "2023-07-04T14:42:30.902187900Z",
     "start_time": "2023-07-04T14:42:30.889922200Z"
    }
   }
  },
  {
   "cell_type": "markdown",
   "source": [
    "**8. Verifiquei o título de cada coluna**"
   ],
   "metadata": {
    "collapsed": false
   }
  },
  {
   "cell_type": "code",
   "execution_count": 15,
   "outputs": [
    {
     "data": {
      "text/plain": "Index(['Bankrupt?', ' ROA(C) before interest and depreciation before interest',\n       ' ROA(A) before interest and % after tax',\n       ' ROA(B) before interest and depreciation after tax',\n       ' Operating Gross Margin', ' Realized Sales Gross Margin',\n       ' Operating Profit Rate', ' Pre-tax net Interest Rate',\n       ' After-tax net Interest Rate',\n       ' Non-industry income and expenditure/revenue',\n       ' Continuous interest rate (after tax)', ' Operating Expense Rate',\n       ' Research and development expense rate', ' Cash flow rate',\n       ' Interest-bearing debt interest rate', ' Tax rate (A)',\n       ' Net Value Per Share (B)', ' Net Value Per Share (A)',\n       ' Net Value Per Share (C)', ' Persistent EPS in the Last Four Seasons',\n       ' Cash Flow Per Share', ' Revenue Per Share (Yuan ¥)',\n       ' Operating Profit Per Share (Yuan ¥)',\n       ' Per Share Net profit before tax (Yuan ¥)',\n       ' Realized Sales Gross Profit Growth Rate',\n       ' Operating Profit Growth Rate', ' After-tax Net Profit Growth Rate',\n       ' Regular Net Profit Growth Rate', ' Continuous Net Profit Growth Rate',\n       ' Total Asset Growth Rate', ' Net Value Growth Rate',\n       ' Total Asset Return Growth Rate Ratio', ' Cash Reinvestment %',\n       ' Current Ratio', ' Quick Ratio', ' Interest Expense Ratio',\n       ' Total debt/Total net worth', ' Debt ratio %', ' Net worth/Assets',\n       ' Long-term fund suitability ratio (A)', ' Borrowing dependency',\n       ' Contingent liabilities/Net worth',\n       ' Operating profit/Paid-in capital',\n       ' Net profit before tax/Paid-in capital',\n       ' Inventory and accounts receivable/Net value', ' Total Asset Turnover',\n       ' Accounts Receivable Turnover', ' Average Collection Days',\n       ' Inventory Turnover Rate (times)', ' Fixed Assets Turnover Frequency',\n       ' Net Worth Turnover Rate (times)', ' Revenue per person',\n       ' Operating profit per person', ' Allocation rate per person',\n       ' Working Capital to Total Assets', ' Quick Assets/Total Assets',\n       ' Current Assets/Total Assets', ' Cash/Total Assets',\n       ' Quick Assets/Current Liability', ' Cash/Current Liability',\n       ' Current Liability to Assets', ' Operating Funds to Liability',\n       ' Inventory/Working Capital', ' Inventory/Current Liability',\n       ' Current Liabilities/Liability', ' Working Capital/Equity',\n       ' Current Liabilities/Equity', ' Long-term Liability to Current Assets',\n       ' Retained Earnings to Total Assets', ' Total income/Total expense',\n       ' Total expense/Assets', ' Current Asset Turnover Rate',\n       ' Quick Asset Turnover Rate', ' Working capitcal Turnover Rate',\n       ' Cash Turnover Rate', ' Cash Flow to Sales', ' Fixed Assets to Assets',\n       ' Current Liability to Liability', ' Current Liability to Equity',\n       ' Equity to Long-term Liability', ' Cash Flow to Total Assets',\n       ' Cash Flow to Liability', ' CFO to Assets', ' Cash Flow to Equity',\n       ' Current Liability to Current Assets', ' Liability-Assets Flag',\n       ' Net Income to Total Assets', ' Total assets to GNP price',\n       ' No-credit Interval', ' Gross Profit to Sales',\n       ' Net Income to Stockholder's Equity', ' Liability to Equity',\n       ' Degree of Financial Leverage (DFL)',\n       ' Interest Coverage Ratio (Interest expense to EBIT)',\n       ' Net Income Flag', ' Equity to Liability'],\n      dtype='object')"
     },
     "execution_count": 15,
     "metadata": {},
     "output_type": "execute_result"
    }
   ],
   "source": [
    "data.columns"
   ],
   "metadata": {
    "collapsed": false,
    "ExecuteTime": {
     "end_time": "2023-07-04T14:42:54.370947700Z",
     "start_time": "2023-07-04T14:42:54.362264100Z"
    }
   }
  },
  {
   "cell_type": "markdown",
   "source": [
    "**9. Verifiquei a quantidade de dados únicos em cada coluna**"
   ],
   "metadata": {
    "collapsed": false
   }
  },
  {
   "cell_type": "code",
   "execution_count": 16,
   "outputs": [
    {
     "name": "stdout",
     "output_type": "stream",
     "text": [
      "Quantidade de dados únicos em cada coluna: \n",
      "Bankrupt?                                                      2\n",
      " ROA(C) before interest and depreciation before interest    3333\n",
      " ROA(A) before interest and % after tax                     3151\n",
      " ROA(B) before interest and depreciation after tax          3160\n",
      " Operating Gross Margin                                     3781\n",
      "                                                            ... \n",
      " Liability to Equity                                        6819\n",
      " Degree of Financial Leverage (DFL)                         6240\n",
      " Interest Coverage Ratio (Interest expense to EBIT)         6240\n",
      " Net Income Flag                                               1\n",
      " Equity to Liability                                        6819\n",
      "Length: 96, dtype: int64\n"
     ]
    }
   ],
   "source": [
    "unicos = data.nunique()\n",
    "print(f'Quantidade de dados únicos em cada coluna: \\n{unicos}')"
   ],
   "metadata": {
    "collapsed": false,
    "ExecuteTime": {
     "end_time": "2023-07-04T14:43:24.141801700Z",
     "start_time": "2023-07-04T14:43:24.102998700Z"
    }
   }
  },
  {
   "cell_type": "markdown",
   "source": [
    "### Dados prontos para análise exploratória"
   ],
   "metadata": {
    "collapsed": false
   }
  },
  {
   "cell_type": "markdown",
   "source": [],
   "metadata": {
    "collapsed": false
   }
  }
 ],
 "metadata": {
  "kernelspec": {
   "display_name": "Python 3",
   "language": "python",
   "name": "python3"
  },
  "language_info": {
   "codemirror_mode": {
    "name": "ipython",
    "version": 2
   },
   "file_extension": ".py",
   "mimetype": "text/x-python",
   "name": "python",
   "nbconvert_exporter": "python",
   "pygments_lexer": "ipython2",
   "version": "2.7.6"
  }
 },
 "nbformat": 4,
 "nbformat_minor": 0
}
